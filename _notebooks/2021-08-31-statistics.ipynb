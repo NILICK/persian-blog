{
 "cells": [
  {
   "cell_type": "markdown",
   "id": "ba780837-f426-459e-830c-1464a4a59550",
   "metadata": {},
   "source": [
    "# Statistics\n",
    "> This post is about Statistics.\n",
    "\n",
    "- toc: true\n",
    "- branch: master\n",
    "- badges: true\n",
    "- comments: true\n",
    "- categories: [Statistics]\n",
    "- hide: false"
   ]
  },
  {
   "cell_type": "markdown",
   "id": "cdd690e3-4bb1-4754-9ed6-76f803edc281",
   "metadata": {},
   "source": [
    "## <div style=\"text-align: right\"> مفهوم‌های اصلی آمار </div>"
   ]
  },
  {
   "cell_type": "markdown",
   "id": "5dce51a6-ce46-48b4-99ad-eed033a8a738",
   "metadata": {},
   "source": [
    "<div style=\"text-align: right\">\n",
    "در این مطلب به بررسی پنج مفهوم یا روش آماری می‌پردازیم که هر تحلیل‌گر داده باید از آن اطلاع داشته تا در کارش بتواند موثرتر از قبل باشد. شیوه محاسبه بعضی از این شاخص‌های آماری در مطلب مفاهیم آماری – شاخص‌های توصیفی قابل مشاهده است.\n",
    "</div>"
   ]
  },
  {
   "cell_type": "code",
   "execution_count": null,
   "id": "dd00416d-f973-4977-81f2-353291071798",
   "metadata": {},
   "outputs": [],
   "source": []
  }
 ],
 "metadata": {
  "kernelspec": {
   "display_name": "Python 3",
   "language": "python",
   "name": "python3"
  },
  "language_info": {
   "codemirror_mode": {
    "name": "ipython",
    "version": 3
   },
   "file_extension": ".py",
   "mimetype": "text/x-python",
   "name": "python",
   "nbconvert_exporter": "python",
   "pygments_lexer": "ipython3",
   "version": "3.9.5"
  },
  "widgets": {
   "application/vnd.jupyter.widget-state+json": {
    "state": {},
    "version_major": 2,
    "version_minor": 0
   }
  }
 },
 "nbformat": 4,
 "nbformat_minor": 5
}
